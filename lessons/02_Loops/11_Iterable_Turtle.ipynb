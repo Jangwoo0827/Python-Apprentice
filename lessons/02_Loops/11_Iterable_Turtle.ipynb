{
 "cells": [
  {
   "cell_type": "code",
   "execution_count": 2,
   "metadata": {},
   "outputs": [
    {
     "ename": "TypeError",
     "evalue": "'int' object is not iterable",
     "output_type": "error",
     "traceback": [
      "\u001b[0;31m---------------------------------------------------------------------------\u001b[0m",
      "\u001b[0;31mTypeError\u001b[0m                                 Traceback (most recent call last)",
      "Cell \u001b[0;32mIn[2], line 20\u001b[0m\n\u001b[1;32m     12\u001b[0m directions \u001b[38;5;241m=\u001b[39m [ \u001b[38;5;66;03m# Create a list of directions and angles\u001b[39;00m\n\u001b[1;32m     13\u001b[0m     ( \u001b[38;5;241m90\u001b[39m, \u001b[38;5;241m10\u001b[39m ),\n\u001b[1;32m     14\u001b[0m     ( \u001b[38;5;241m90\u001b[39m, \u001b[38;5;241m10\u001b[39m ), \u001b[38;5;241m.\u001b[39m\u001b[38;5;241m.\u001b[39m\u001b[38;5;241m.\u001b[39m \u001b[38;5;66;03m# Add more\u001b[39;00m\n\u001b[1;32m     15\u001b[0m ]\n\u001b[1;32m     17\u001b[0m \u001b[38;5;66;03m# Zip the colors and directions together, then unpack them. THere is a good example of this\u001b[39;00m\n\u001b[1;32m     18\u001b[0m \u001b[38;5;66;03m# in 10_More_iterables.ipynb in the discussion of zip()\u001b[39;00m\n\u001b[0;32m---> 20\u001b[0m \u001b[38;5;28;01mfor\u001b[39;00m sigma \u001b[38;5;129;01min\u001b[39;00m \u001b[38;5;28;43mzip\u001b[39;49m\u001b[43m(\u001b[49m\u001b[43m \u001b[49m\u001b[38;5;241;43m20\u001b[39;49m\u001b[43m \u001b[49m\u001b[43m,\u001b[49m\u001b[43m \u001b[49m\u001b[38;5;241;43m40\u001b[39;49m\u001b[43m)\u001b[49m:\n\u001b[1;32m     21\u001b[0m     t\u001b[38;5;241m.\u001b[39mcolor( \u001b[38;5;124m'\u001b[39m\u001b[38;5;124mBlack\u001b[39m\u001b[38;5;124m'\u001b[39m )\n\u001b[1;32m     22\u001b[0m     t\u001b[38;5;241m.\u001b[39mforward( \u001b[38;5;241m10\u001b[39m )\n",
      "\u001b[0;31mTypeError\u001b[0m: 'int' object is not iterable"
     ]
    }
   ],
   "source": [
    "\"\"\"\n",
    "Programmable turtle graphics\n",
    "\n",
    "Use what you've learned about lists, loop, cycle, slice and zip to draw a pattern\n",
    "\n",
    "\"\"\"\n",
    "import turtle\n",
    "t = turtle # Create a turtle like in previous programs, like 04_Crazy_Tina.py\n",
    "\n",
    "colors = ... # Make a list of colors\n",
    "\n",
    "directions = [ # Create a list of directions and angles\n",
    "    ( 90, 10 ),\n",
    "    ( 90, 10 ), ... # Add more\n",
    "]\n",
    "\n",
    "# Zip the colors and directions together, then unpack them. THere is a good example of this\n",
    "# in 10_More_iterables.ipynb in the discussion of zip()\n",
    "\n",
    "for sigma in zip( 20 , 40):\n",
    "    t.color( 'Black' )\n",
    "    t.forward( 10 )\n",
    "    t.left( 90 )\n",
    "\n",
    "\n",
    "# Don't forget the special way to end a turtle program. \n",
    "turtle.exitonclick()  "
   ]
  }
 ],
 "metadata": {
  "kernelspec": {
   "display_name": "Python 3",
   "language": "python",
   "name": "python3"
  },
  "language_info": {
   "codemirror_mode": {
    "name": "ipython",
    "version": 3
   },
   "file_extension": ".py",
   "mimetype": "text/x-python",
   "name": "python",
   "nbconvert_exporter": "python",
   "pygments_lexer": "ipython3",
   "version": "3.12.4"
  }
 },
 "nbformat": 4,
 "nbformat_minor": 2
}
